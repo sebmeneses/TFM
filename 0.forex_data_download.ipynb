{
 "cells": [
  {
   "cell_type": "code",
   "execution_count": null,
   "id": "daac89c6",
   "metadata": {},
   "outputs": [
    {
     "name": "stdout",
     "output_type": "stream",
     "text": [
      "Conectado a MetaTrader 5\n",
      "Los archivos CSV se guardarán en: c:\\Users\\sebas\\OneDrive\\Escritorio\\TFM-Ciencia de datos\\download\n",
      "\n",
      "Descargando datos para EURUSD...\n",
      "31128 velas guardadas en: c:\\Users\\sebas\\OneDrive\\Escritorio\\TFM-Ciencia de datos\\download\\EURUSD_5_year.csv\n",
      "\n",
      "Descargando datos para GBPUSD...\n",
      "31113 velas guardadas en: c:\\Users\\sebas\\OneDrive\\Escritorio\\TFM-Ciencia de datos\\download\\GBPUSD_5_year.csv\n",
      "\n",
      "Descargando datos para USDJPY...\n",
      "31128 velas guardadas en: c:\\Users\\sebas\\OneDrive\\Escritorio\\TFM-Ciencia de datos\\download\\USDJPY_5_year.csv\n",
      "\n",
      "Descargando datos para USDCHF...\n",
      "31128 velas guardadas en: c:\\Users\\sebas\\OneDrive\\Escritorio\\TFM-Ciencia de datos\\download\\USDCHF_5_year.csv\n",
      "\n",
      "Descargando datos para AUDUSD...\n",
      "31106 velas guardadas en: c:\\Users\\sebas\\OneDrive\\Escritorio\\TFM-Ciencia de datos\\download\\AUDUSD_5_year.csv\n",
      "\n",
      "Conexión con MetaTrader 5 cerrada.\n"
     ]
    }
   ],
   "source": [
    "import MetaTrader5 as mt5\n",
    "import pandas as pd\n",
    "from datetime import datetime, timedelta\n",
    "import os\n",
    "\n",
    "# Inicializar conexión con MetaTrader 5\n",
    "if not mt5.initialize():\n",
    "    print(\"No se pudo inicializar MetaTrader 5\")\n",
    "    quit()\n",
    "else:\n",
    "    print(\"Conectado a MetaTrader 5\")\n",
    "\n",
    "# Lista de símbolos\n",
    "symbols = [\"EURUSD\", \"GBPUSD\", \"USDCHF\", \"AUDUSD\"]\n",
    "\n",
    "# Parámetros de tiempo\n",
    "timeframe = mt5.TIMEFRAME_H1\n",
    "end_time = datetime.now()\n",
    "start_time = end_time - timedelta(days=1825)  # Último año\n",
    "\n",
    "# Crear carpeta 'download' si no existe\n",
    "download_path = os.path.join(os.getcwd(), \"download\")\n",
    "os.makedirs(download_path, exist_ok=True)\n",
    "print(f\"Los archivos CSV se guardarán en: {download_path}\")\n",
    "\n",
    "# Descargar y guardar por símbolo\n",
    "for symbol in symbols:\n",
    "    print(f\"\\nDescargando datos para {symbol}...\")\n",
    "    rates = mt5.copy_rates_range(symbol, timeframe, start_time, end_time)\n",
    "\n",
    "    if rates is None or len(rates) == 0:\n",
    "        print(f\"No se pudieron obtener datos para {symbol}.\")\n",
    "        continue\n",
    "\n",
    "    df = pd.DataFrame(rates)\n",
    "    df['time'] = pd.to_datetime(df['time'], unit='s')\n",
    "\n",
    "    filename = f\"{symbol}_5_year.csv\"\n",
    "    output_path = os.path.join(download_path, filename)\n",
    "    df.to_csv(output_path, index=False)\n",
    "    print(f\"{len(df)} velas guardadas en: {output_path}\")\n",
    "\n",
    "# Cerrar conexión\n",
    "mt5.shutdown()\n",
    "print(\"\\nConexión con MetaTrader 5 cerrada.\")\n"
   ]
  },
  {
   "cell_type": "code",
   "execution_count": 6,
   "id": "73b9b199",
   "metadata": {},
   "outputs": [
    {
     "name": "stdout",
     "output_type": "stream",
     "text": [
      "\n",
      "Cantidad de filas por archivo CSV:\n",
      "\n",
      "EURUSD_5_year.csv: 31128 filas\n",
      "GBPUSD_5_year.csv: 31113 filas\n",
      "USDJPY_5_year.csv: 31128 filas\n",
      "USDCHF_5_year.csv: 31128 filas\n",
      "AUDUSD_5_year.csv: 31106 filas\n"
     ]
    }
   ],
   "source": [
    "import os\n",
    "import pandas as pd  # ✅ FALTABA ESTA LÍNEA\n",
    "\n",
    "# Ruta donde están guardados los CSVs\n",
    "download_path = os.path.join(os.getcwd(), \"download\")\n",
    "\n",
    "# Lista de símbolos usados\n",
    "symbols = [\"EURUSD\", \"GBPUSD\", \"USDJPY\", \"USDCHF\", \"AUDUSD\"]\n",
    "\n",
    "# Contar filas en cada archivo\n",
    "print(\"\\nCantidad de filas por archivo CSV:\\n\")\n",
    "for symbol in symbols:\n",
    "    filename = f\"{symbol}_5_year.csv\"\n",
    "    file_path = os.path.join(download_path, filename)\n",
    "    \n",
    "    try:\n",
    "        df = pd.read_csv(file_path)\n",
    "        print(f\"{filename}: {len(df)} filas\")\n",
    "    except FileNotFoundError:\n",
    "        print(f\"{filename}: Archivo no encontrado.\")\n",
    "    except Exception as e:\n",
    "        print(f\"{filename}: Error al leer archivo ({e})\")\n"
   ]
  }
 ],
 "metadata": {
  "kernelspec": {
   "display_name": "venv",
   "language": "python",
   "name": "python3"
  },
  "language_info": {
   "codemirror_mode": {
    "name": "ipython",
    "version": 3
   },
   "file_extension": ".py",
   "mimetype": "text/x-python",
   "name": "python",
   "nbconvert_exporter": "python",
   "pygments_lexer": "ipython3",
   "version": "3.11.9"
  }
 },
 "nbformat": 4,
 "nbformat_minor": 5
}
